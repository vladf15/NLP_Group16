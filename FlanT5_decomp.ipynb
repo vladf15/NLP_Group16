{
 "cells": [
  {
   "cell_type": "code",
   "execution_count": null,
   "metadata": {},
   "outputs": [],
   "source": [
    "from transformers import T5Tokenizer, T5ForConditionalGeneration\n",
    "from tqdm import tqdm\n",
    "import pandas as pd\n",
    "import torch\n",
    "\n",
    "\n",
    "tqdm.pandas()\n",
    "# Use cuda if available\n",
    "device = torch.device(\"cuda\" if torch.cuda.is_available() else \"cpu\")\n",
    "print(device)\n",
    "\n",
    "# Using a generative model with custom prompts depending on claim type\n",
    "model = T5ForConditionalGeneration.from_pretrained(\"google/flan-t5-large\")\n",
    "tokenizer = T5Tokenizer.from_pretrained(\"google/flan-t5-large\")\n",
    "model.to(device)"
   ]
  },
  {
   "cell_type": "code",
   "execution_count": null,
   "metadata": {},
   "outputs": [],
   "source": [
    "from datasets import Dataset\n",
    "\n",
    "\n",
    "train_df = pd.read_json(\"test_claims_quantemp.json\")\n",
    "val_df = pd.read_json(\"val_claims_quantemp.json\")\n",
    "\n",
    "train_df = pd.DataFrame([{'type': item['taxonomy_label'], 'claim': item['claim']} for item in train_df.to_dict(orient='records')])\n",
    "val_df = pd.DataFrame([{'type': item['taxonomy_label'], 'claim': item['claim']} for item in val_df.to_dict(orient='records')])\n",
    "\n",
    "# The following code is inspired by the ProgramFC project. We have implemented a simplified version that generates prompts based on task type.\n",
    "# sources: https://github.com/mbzuai-nlp/ProgramFC/blob/main/models/prompts.py\n",
    "# https://aclanthology.org/2023.acl-long.386.pdf\n",
    "\n",
    "main_prompt = '''The task is to break down a given claim into its constituent statements. Here are some examples to illustrate the logic:\n",
    "\n",
    "Example 1:\n",
    "Claim:\n",
    "\"A patent for coronavirus was granted in 2018 to the Pirbright Institute UK, founded by Bill and Melinda Gates.\"\n",
    "Results: \n",
    "1) \"A patent for coronavirus was granted in 2018.\"\n",
    "2) \"The patent was granted to the Pirbright Institute UK.\"\n",
    "3) \"The Pirbright Institute UK was founded by Bill and Melinda Gates.\"\n",
    "\n",
    "Example 2:\n",
    "Claim:\n",
    "\"A video that went viral in July 2023 authentically depicted an ad in Japan that read \\\"Stop Zelenskyy, Stop War.\\\"\" \n",
    "Results: \n",
    "1) \"A video showed an ad in Japan that read \\\"Stop Zelenskyy, Stop War.\\\"\"\n",
    "2) \"The video went viral in July 2023.\"\n",
    "3) \"The video was authentic.\"\n",
    "\n",
    "Example 3:\n",
    "Claim:\n",
    "\"In the historic 2020 US election, Joe Biden defeated Donald Trump to become the 46th President of the United States.\"\n",
    "Results:\n",
    "1) \"The 2020 US election was historic.\"\n",
    "2) \"Joe Biden defeated Donald Trump in the 2020 US election.\"\n",
    "3) \"Joe Biden became the 46th President of the United States.\"\n",
    "\n",
    "Example 4:\n",
    "Claim:\n",
    "\"Arnold Schwarzenegger, born in 1947 in Austria, served as Republican Governor of California after a career as a bodybuilder and actor.\"\n",
    "Results: \n",
    "1) \"Arnold Schwarzenegger was born in 1947 in Austria.\"\n",
    "2) \"Arnold Schwarzenegger served as Republican Governor of California.\"\n",
    "3) \"Arnold Schwarzenegger had a career as a bodybuilder and actor.\"\n",
    "4) \"Arnold Schwarzenegger's career as a bodybuilder and actor preceded his tenure as Governor of California.\"\n",
    "\n",
    "Example 19:\n",
    "Claim:\n",
    "\"According to a 2023 report, the number of billionaires in the world has increased by 25%% since 2020.\"\n",
    "Results:\n",
    "1) \"A report was published in 2023 on the number of billionaires in the world.\"\n",
    "2) \"The number of billionaires in the world has increased between 2020 and 2023.\"\n",
    "3) \"The increase in the number of billionaires is by 25%%.\"\n",
    "\n",
    "\n",
    "Example 17:\n",
    "Claim:\n",
    "\"Japanese citizens boycotting goods made in USA over nuclear bombing in 1945\"\n",
    "Results:\n",
    "1) \"Japanese citizens are boycotting goods made in the USA.\"\n",
    "2) \"There was a nuclear bombing in 1945.\"\n",
    "3) \"The boycott is due to the nuclear bombing in 1945.\"\n",
    "\n",
    "'''\n",
    "\n",
    "def add_decomp_prompt(claim, claim_type):\n",
    "    if claim_type == \"comparison\":\n",
    "        claim =  main_prompt + f'''\n",
    "Example 13:\n",
    "Claim: \"Pepsi is preferred to Coke in blind taste tests, despite Coke being regarded as the more successful brand.\"\n",
    "Results: \n",
    "1) \"Blind tests have been conducted comparing Pepsi and Coke.\"\n",
    "2) \"Pepsi is preferred to Coke in blind taste tests.\"\n",
    "3) \"Coke is regarded as the more successful brand.\"\n",
    "\n",
    "Example 10:\n",
    "Claim:\n",
    "\"Studies have shown that the average global temperature has increased by 1.2 degrees Celsius since the pre-industrial era.\"\n",
    "Results:\n",
    "1) \"Studies have shown that the average global temperature has increased.\"\n",
    "2) \"The increase is by 1.2 degrees Celsius.\"\n",
    "3) \"The increase is since the pre-industrial era.\"\n",
    "\n",
    "Example 11:\n",
    "Claim:\n",
    "\"According to recent polls, more Americans support the legalization of marijuana than oppose it. This is a significant shift from previous years.\"\n",
    "Results:\n",
    "1) \"Recent polls show that the majority of Americans support the legalization of marijuana.\"\n",
    "2) \"More Americans support the legalization of marijuana than oppose it.\"\n",
    "3) \"There has been a significant shift in public opinion from previous years.\"\n",
    "\n",
    "---\n",
    "Now, break down the following comparison claim into its smallest, factual components. Ensure you list all relevant components and avoid adding unrelated information:\n",
    "\n",
    "Claim: {claim} \n",
    "Results:\n",
    "        '''\n",
    "    elif claim_type == \"interval\":\n",
    "        claim =  main_prompt + f'''\n",
    "Example 15:\n",
    "Claim:\n",
    "\"An image of a red sky in Beijing was taken on March 23, 2023, during a sandstorm.\"\n",
    "Results: \n",
    "1) \"An image of a red sky in Beijing was taken on March 23, 2023.\"\n",
    "2) \"There was a sandstorm in Beijing on March 23, 2023.\"\n",
    "3) \"The image was taken during a sandstorm.\" \n",
    "\n",
    "Example 8:\n",
    "Claim:\n",
    "\"The stock market crashed in 1929, leading to the Great Depression.\"\n",
    "Results:\n",
    "1) \"The stock market crashed in 1929.\"\n",
    "2) \"The stock market crash led to the Great Depression.\"\n",
    "3) \"The Great Depression followed the stock market crash of 1929.\"\n",
    "\n",
    "---\n",
    "Now, break down the following interval claim into its smallest, factual components. Ensure you list all relevant components and avoid adding unrelated information:\n",
    "\n",
    "Claim: {claim} \n",
    "Results:\n",
    "'''  \n",
    "    elif claim_type == \"statistical\":\n",
    "        claim =  main_prompt + f'''\n",
    "\n",
    "Example 9:\n",
    "Claim:\n",
    "\"Vaccines have been shown to reduce the risk of severe COVID-19 by 90%%.\"\n",
    "Results:\n",
    "1) \"Vaccines have been shown to reduce the risk of severe COVID-19.\"\n",
    "2) \"The reduction in risk is by 90%%.\"\n",
    "3) \"The reduction in risk is for severe COVID-19.\"\n",
    "\n",
    "Example 6:\n",
    "Claim:\n",
    "\"Police-recorded crimes against property in the EU increased in 2022: thefts rose by 17.9%%, robberies by 9.7%% and burglaries by 7.4%% compared with the previous year.\"\n",
    "Results:\n",
    "1) \"Police-recorded crimes against property in the EU increased in 2022.\"\n",
    "2) \"Thefts rose by 17.9%% compared with the previous year\"\n",
    "3) \"Robberies rose by 9.7%% compared with the previous year\"\n",
    "4) \"Burglaries rose by 7.4%% ccompared with the previous year\"\n",
    "\n",
    "Example 12:\n",
    "Claim:\n",
    "\"President Bolsonaro is facing criticism for deforestation in the Amazon, which has increased by 25%% since he took office.\"\n",
    "Results:\n",
    "1) \"President Bolsonaro is facing criticism for deforestation in the Amazon.\"\n",
    "2) \"Deforestation in the Amazon has increased by 25%%.\"\n",
    "3) \"The increase in deforestation is since President Bolsonaro took office.\"\n",
    "\n",
    "---\n",
    "Now, break down the following statistical claim into its smallest, factual components. Ensure you list all relevant components and avoid adding unrelated information:\n",
    "\n",
    "Claim: {claim} \n",
    "Results:\n",
    "'''\n",
    "    elif claim_type == \"temporal\":\n",
    "        claim =  main_prompt + f'''\n",
    "Example 5:\n",
    "Claim:\n",
    "\"In 2005, an estimated 1.5 million people from Alabama, Mississippi, and Louisiana fled their homes in the face of Hurricane Katrina.\"\n",
    "Results:\n",
    "1) \"In 2005, Hurricane Katrina struck Alabama, Mississippi, and Louisiana.\"\n",
    "2) \"At least 1.5 million fled their homes in the face of Hurricane Katrina.\"\n",
    "3) \"An estimated 1.5 million people who fled their homes were from Alabama, Mississippi, and Louisiana.\"\n",
    "\n",
    "Example 3:\n",
    "Claim:\n",
    "\"The 2022 Winter Olympics in Beijing were the first to feature a unified Korean team.\"\n",
    "Results: \n",
    "1) \"The 2022 Winter Olympics were held in Beijing.\"\n",
    "2) \"The 2022 Winter Olympics featured a unified Korean team.\"\n",
    "3) \"The 2022 unified Korean team was the first in Olympic history.\"\n",
    "\n",
    "---\n",
    "Now, break down the following temporal claim into its smallest, factual components. Ensure you list all relevant components and avoid adding unrelated information:\n",
    "\n",
    "Claim: {claim} \n",
    "Results:\n",
    "'''\n",
    "    else:\n",
    "        claim = f\"Decompose the following claim: {claim} \"\n",
    "    return claim  \n",
    "\n",
    "def planner(df):\n",
    "    # Apply the prompt to each claim and save in separate column\n",
    "    df['prompt'] = df.progress_apply(lambda x: add_decomp_prompt(x['claim'], x['type']), axis=1)\n",
    "    return df\n",
    "\n",
    "train_df = planner(train_df)\n",
    "val_df = planner(val_df)\n",
    "\n",
    "print(train_df['prompt'].head()[0])"
   ]
  },
  {
   "cell_type": "code",
   "execution_count": 3,
   "metadata": {},
   "outputs": [
    {
     "name": "stderr",
     "output_type": "stream",
     "text": [
      "Generating Decompositions:   1%|▏         | 32/2495 [01:31<2:00:08,  2.93s/it]"
     ]
    },
    {
     "name": "stdout",
     "output_type": "stream",
     "text": [
      "Initial Claim 32/2495: A photograph shared to Reddit in September 2021 showed a vibrantly hued grasshopper that was seen in Michigan.\n",
      "Decomposed Claim 32/2495: 1) \"A photograph shared to Reddit in September 2021 showed a vibrantly hued grasshopper that was seen in Michigan.\" 2) \"The photograph was shared to Reddit in September 2021.\"\n"
     ]
    },
    {
     "name": "stderr",
     "output_type": "stream",
     "text": [
      "Generating Decompositions:   1%|▏         | 33/2495 [01:35<2:11:12,  3.20s/it]"
     ]
    },
    {
     "name": "stdout",
     "output_type": "stream",
     "text": [
      "Initial Claim 33/2495: stage 4 cancer can be cured with baking soda and soursop\n",
      "Decomposed Claim 33/2495: 1) \"Stage 4 cancer can be cured with baking soda and soursop.\" 2) \"Baking soda and soursop are two common ingredients in the treatment of stage 4 cancer.\" 3) \"The claim is that baking soda and soursop can cure stage 4 cancer.\"\n"
     ]
    },
    {
     "name": "stderr",
     "output_type": "stream",
     "text": [
      "Generating Decompositions:   1%|▏         | 34/2495 [01:38<2:04:27,  3.03s/it]"
     ]
    },
    {
     "name": "stdout",
     "output_type": "stream",
     "text": [
      "Initial Claim 34/2495: In December 2019, an Ames, Iowa, man was given a 16-year prison sentence for burning an LGBT rainbow flag.\n",
      "Decomposed Claim 34/2495: 1) \"Ames, Iowa, man was given a 16-year prison sentence for burning an LGBT rainbow flag.\" 2) \"In December 2019, an Ames, Iowa, man was given a 16.\n"
     ]
    },
    {
     "name": "stderr",
     "output_type": "stream",
     "text": [
      "Generating Decompositions:   1%|▏         | 35/2495 [01:39<1:49:06,  2.66s/it]"
     ]
    },
    {
     "name": "stdout",
     "output_type": "stream",
     "text": [
      "Initial Claim 35/2495: \"Just on Jan. 1 of this year, there were 40,000 new laws put on the books in one day.\"\n",
      "Decomposed Claim 35/2495: 1) \"Just on Jan. 1 of this year, there were 40,000 new laws put on the books in one day.\"\n"
     ]
    },
    {
     "name": "stderr",
     "output_type": "stream",
     "text": [
      "Generating Decompositions:   1%|▏         | 36/2495 [01:42<1:53:10,  2.76s/it]"
     ]
    },
    {
     "name": "stdout",
     "output_type": "stream",
     "text": [
      "Initial Claim 36/2495: Says David Perdue wants to abolish the U.S. Department of Education, which would cost Georgia schools $1 billion a year and eliminate millions in student loans.\n",
      "Decomposed Claim 36/2495: 1) \"David Perdue wants to abolish the U.S. Department of Education.\" 2) \"The U.S. Department of Education costs Georgia schools $1 billion a year.\" 3) \"Student loans are eliminated.\"\n"
     ]
    },
    {
     "name": "stderr",
     "output_type": "stream",
     "text": [
      "Generating Decompositions:   1%|▏         | 37/2495 [01:45<1:54:26,  2.79s/it]"
     ]
    },
    {
     "name": "stdout",
     "output_type": "stream",
     "text": [
      "Initial Claim 37/2495: Japanese citizens boycotting goods made in USA over nuclear bombing in 1945\n",
      "Decomposed Claim 37/2495: 1) \"Japanese citizens are boycotting goods made in the USA.\" 2) \"There was a nuclear bombing in 1945.\" 3) \"The boycott is due to the nuclear bombing in 1945.\"\n"
     ]
    },
    {
     "name": "stderr",
     "output_type": "stream",
     "text": [
      "Generating Decompositions:   2%|▏         | 38/2495 [01:49<2:06:54,  3.10s/it]"
     ]
    },
    {
     "name": "stdout",
     "output_type": "stream",
     "text": [
      "Initial Claim 38/2495: \"When George Weah took the oath of office, there were two million Liberians in extreme poverty.\"\n",
      "Decomposed Claim 38/2495: 1) \"When George Weah took the oath of office, there were two million Liberians in extreme poverty.\" 2) \"The number of Liberians in extreme poverty is estimated to be around 2 million.\" 3) \"There are no estimates for how many people are living in extreme poverty.\"\n"
     ]
    },
    {
     "name": "stderr",
     "output_type": "stream",
     "text": [
      "Generating Decompositions:   2%|▏         | 39/2495 [01:52<2:03:44,  3.02s/it]"
     ]
    },
    {
     "name": "stdout",
     "output_type": "stream",
     "text": [
      "Initial Claim 39/2495: A screenshot of a report in the New York Times that claimed AAP's roadshow in Gujarat was attended by 25 crore people.\n",
      "Decomposed Claim 39/2495: 1) \"AAP's roadshow in Gujarat was attended by 25 crore people.\" 2) \"A screenshot of a report in the New York Times that claimed AAP's roadshow in Gujarat was attended.\n"
     ]
    },
    {
     "name": "stderr",
     "output_type": "stream",
     "text": [
      "Generating Decompositions:   2%|▏         | 40/2495 [01:54<1:54:46,  2.81s/it]"
     ]
    },
    {
     "name": "stdout",
     "output_type": "stream",
     "text": [
      "Initial Claim 40/2495: Says \"43 of Joe’s legislative proposals have become law, including 21 since President Trump took office.\"\n",
      "Decomposed Claim 40/2495: 1) \"Joe's legislative proposals have become law, including 21 since President Trump took office.\" 2) \"43 of Joe's legislative proposals have become law.\"\n"
     ]
    },
    {
     "name": "stderr",
     "output_type": "stream",
     "text": [
      "Generating Decompositions:   2%|▏         | 41/2495 [01:57<1:50:25,  2.70s/it]"
     ]
    },
    {
     "name": "stdout",
     "output_type": "stream",
     "text": [
      "Initial Claim 41/2495: “The expanded public works program has since 2014 created more than 2 million work opportunities towards the attainment of the target of 6 million work opportunities by the end of March 2019.”\n",
      "Decomposed Claim 41/2495: 1) \"The expanded public works program has created more than 2 million work opportunities since 2014 towards the attainment of the target of 6 million work opportunities by the end of March 2019\"\n"
     ]
    },
    {
     "name": "stderr",
     "output_type": "stream",
     "text": [
      "Generating Decompositions:   2%|▏         | 42/2495 [01:59<1:45:20,  2.58s/it]"
     ]
    },
    {
     "name": "stdout",
     "output_type": "stream",
     "text": [
      "Initial Claim 42/2495: China reports military clash in Henan province in 2022\n",
      "Decomposed Claim 42/2495: 1) \"China reports a military clash in Henan province in 2022.\" 2) \"The 2022 conflict was between China and the People's Liberation Army.\"\n"
     ]
    },
    {
     "name": "stderr",
     "output_type": "stream",
     "text": [
      "Generating Decompositions:   2%|▏         | 43/2495 [02:01<1:37:35,  2.39s/it]"
     ]
    },
    {
     "name": "stdout",
     "output_type": "stream",
     "text": [
      "Initial Claim 43/2495: 2010 national census data was used to manipulate the 2020 election rolls and to inject phantom votes into the election totals\n",
      "Decomposed Claim 43/2495: 1) \"The 2010 national census data was used to manipulate the 2020 election rolls and to inject phantom votes into the election totals.\"\n"
     ]
    },
    {
     "name": "stderr",
     "output_type": "stream",
     "text": [
      "Generating Decompositions:   2%|▏         | 44/2495 [02:04<1:49:02,  2.67s/it]"
     ]
    },
    {
     "name": "stdout",
     "output_type": "stream",
     "text": [
      "Initial Claim 44/2495: \"Robert Redford Says: Michelle And Barack Obama Should Get Five Years In Prison.\"\n",
      "Decomposed Claim 44/2495: 1) \"Robert Redford Says: Michelle And Barack Obama Should Get Five Years In Prison.\" 2) \"Michelle And Barack Obama should get five years in prison.\" 3) \"The sentence of five years in prison is the maximum punishment for crimes.\"\n"
     ]
    },
    {
     "name": "stderr",
     "output_type": "stream",
     "text": [
      "Generating Decompositions:   2%|▏         | 45/2495 [02:08<1:57:22,  2.87s/it]"
     ]
    },
    {
     "name": "stdout",
     "output_type": "stream",
     "text": [
      "Initial Claim 45/2495: Man sues state of Alabama over document from 1865 giving him right to own \"black slaves\"\n",
      "Decomposed Claim 45/2495: 1) \"The man sued the state of Alabama over a document from 1865 giving him the right to own \"black slaves.\" 2) \"The man sued the state of Alabama over the document from 1865 giving him the right to possess \"black slaves.\"\n"
     ]
    },
    {
     "name": "stderr",
     "output_type": "stream",
     "text": [
      "Generating Decompositions:   2%|▏         | 46/2495 [02:11<2:05:52,  3.08s/it]"
     ]
    },
    {
     "name": "stdout",
     "output_type": "stream",
     "text": [
      "Initial Claim 46/2495: A girl named Laura Buxton released a balloon that ended up in the hands of another girl named Laura Buxton who lived 140 miles away.\n",
      "Decomposed Claim 46/2495: 1) \"Laura Buxton\" is a girl named Laura Buxton. 2) \"Laura Buxton\" is a person named Laura Buxton. 3) \"Laura Buxton\" is a 140 mile distance away from Laura Buxton.\n"
     ]
    },
    {
     "name": "stderr",
     "output_type": "stream",
     "text": [
      "Generating Decompositions:   2%|▏         | 47/2495 [02:14<2:01:51,  2.99s/it]"
     ]
    },
    {
     "name": "stdout",
     "output_type": "stream",
     "text": [
      "Initial Claim 47/2495: Trump, Congress Ended Theft Of Tax Penalty For Non-Insured, And Some Are Fined $10,000\n",
      "Decomposed Claim 47/2495: 1) \"Trump, Congress ended the theft of tax penalty for non-insured, and some are fined $10,000.\" 2) \"The theft of tax penalty for non-insures was ended.\"\n"
     ]
    },
    {
     "name": "stderr",
     "output_type": "stream",
     "text": [
      "Generating Decompositions:   2%|▏         | 48/2495 [02:18<2:09:37,  3.18s/it]"
     ]
    },
    {
     "name": "stdout",
     "output_type": "stream",
     "text": [
      "Initial Claim 48/2495: Photo shows Asad Ahmed, son of Atiq Ahmed who was killed in an encounter in UP's Jhansi on 13 April.\n",
      "Decomposed Claim 48/2495: 1) \"Photo shows Asad Ahmed, son of Atiq Ahmed who was killed in an encounter in UP's Jhansi on 13 April.\" 2) \"Asad Ahmed was killed in an encounter in UP'S Jhansi on 13 April.\"\n"
     ]
    },
    {
     "name": "stderr",
     "output_type": "stream",
     "text": [
      "Generating Decompositions:   2%|▏         | 49/2495 [02:19<1:51:35,  2.74s/it]"
     ]
    },
    {
     "name": "stdout",
     "output_type": "stream",
     "text": [
      "Initial Claim 49/2495: Program, as shown on CNN, offers $50,000 relief to Americans\n",
      "Decomposed Claim 49/2495: 1) \"The program, as shown on CNN, offers $50,000 relief to Americans.\" 2) \"Americans\" means Americans\n"
     ]
    },
    {
     "name": "stderr",
     "output_type": "stream",
     "text": [
      "Generating Decompositions:   2%|▏         | 50/2495 [02:22<1:55:00,  2.82s/it]"
     ]
    },
    {
     "name": "stdout",
     "output_type": "stream",
     "text": [
      "Initial Claim 50/2495: The government is planning to ban Rs. 2,000 notes as legal tender and is willing to introduce new Rs. 1,000 notes from 01 January 2023\n",
      "Decomposed Claim 50/2495: 1) \"The government is planning to ban Rs. 2,000 notes as legal tender and is willing to introduce new Rs. 1,000 notes from 01 January 2023.\" 2) \"The government is willing to introduce new Rs. 1,000 notes in 2023.\"\n"
     ]
    },
    {
     "name": "stderr",
     "output_type": "stream",
     "text": [
      "Generating Decompositions:   2%|▏         | 51/2495 [02:24<1:38:19,  2.41s/it]"
     ]
    },
    {
     "name": "stdout",
     "output_type": "stream",
     "text": [
      "Initial Claim 51/2495: \"October 2013, Obama shut down the government for 16 days to force Obamacare.\"\n",
      "Decomposed Claim 51/2495: 1) \"Oct. 2013, Obama shut down the government for 16 days to force Obamacare.\"\n"
     ]
    },
    {
     "name": "stderr",
     "output_type": "stream",
     "text": [
      "Generating Decompositions:   2%|▏         | 52/2495 [02:27<1:42:14,  2.51s/it]"
     ]
    },
    {
     "name": "stdout",
     "output_type": "stream",
     "text": [
      "Initial Claim 52/2495: Target Is Giving Away Free $250 Coupons To All\n",
      "Decomposed Claim 52/2495: 1) \"Target is giving away $250 coupons to all customers.\" 2) \"The coupon is valid for any purchase at Target.\" 3) \"All customers must be 18 years of age or older to enter.\"\n"
     ]
    },
    {
     "name": "stderr",
     "output_type": "stream",
     "text": [
      "Generating Decompositions:   2%|▏         | 53/2495 [02:29<1:45:17,  2.59s/it]"
     ]
    },
    {
     "name": "stdout",
     "output_type": "stream",
     "text": [
      "Initial Claim 53/2495: Says a picture he posted on Facebook of a man posing in front of five decapitated human heads is \"one of the subhuman mongrels our president set free.\"\n",
      "Decomposed Claim 53/2495: 1) \"The picture he posted on Facebook shows a man posing in front of five decapitated human heads.\" 2) \"One of the subhuman mongrels our president set free.\"\n"
     ]
    },
    {
     "name": "stderr",
     "output_type": "stream",
     "text": [
      "Generating Decompositions:   2%|▏         | 54/2495 [02:31<1:32:28,  2.27s/it]"
     ]
    },
    {
     "name": "stdout",
     "output_type": "stream",
     "text": [
      "Initial Claim 54/2495: Drinking a glass of water 30 minutes before a meal helps digestion.\n",
      "Decomposed Claim 54/2495: 1) \"Drinking a glass of water 30 minutes before a meal helps digestion.\"\n"
     ]
    },
    {
     "name": "stderr",
     "output_type": "stream",
     "text": [
      "Generating Decompositions:   2%|▏         | 55/2495 [02:35<1:58:40,  2.92s/it]"
     ]
    },
    {
     "name": "stdout",
     "output_type": "stream",
     "text": [
      "Initial Claim 55/2495: As a sign of \"extraordinary progress,\" \"there are half as many (primary-age) children out of school today as there were 15 years ago.\"\n",
      "Decomposed Claim 55/2495: 1) \"There are half as many (primary-age) children out of school today as there were 15 years ago.\" 2) \"Extraordinary progress\" means that there are less children out of school today than there were 15 years ago. 3) \"The number of children out of school today is half as high as it was 15 years ago.\"\n"
     ]
    },
    {
     "name": "stderr",
     "output_type": "stream",
     "text": [
      "Generating Decompositions:   2%|▏         | 56/2495 [02:39<2:04:24,  3.06s/it]"
     ]
    },
    {
     "name": "stdout",
     "output_type": "stream",
     "text": [
      "Initial Claim 56/2495: Taco Bell is offering free gift cards valued at $60 and $75 on Facebook for the company's anniversary.\n",
      "Decomposed Claim 56/2495: 1) \"Taco Bell is offering free gift cards valued at $60 and $75 on Facebook for the company's anniversary.\" 2) \"The company's anniversary is coming up on May 30th.\" 3) \"Free gift cards are available for purchase on Facebook.\"\n"
     ]
    },
    {
     "name": "stderr",
     "output_type": "stream",
     "text": [
      "Generating Decompositions:   2%|▏         | 57/2495 [02:41<2:00:59,  2.98s/it]"
     ]
    },
    {
     "name": "stdout",
     "output_type": "stream",
     "text": [
      "Initial Claim 57/2495: Says in Newark \"we’re paying 80 percent of the school budget from local property taxes.\"\n",
      "Decomposed Claim 57/2495: 1) \"We’re paying 80 percent of the school budget from local property taxes in Newark.\" 2) \"The percentage of the school budget that is paid from property taxes is.80 percent.\"\n"
     ]
    },
    {
     "name": "stderr",
     "output_type": "stream",
     "text": [
      "Generating Decompositions:   2%|▏         | 58/2495 [02:46<2:24:47,  3.56s/it]"
     ]
    },
    {
     "name": "stdout",
     "output_type": "stream",
     "text": [
      "Initial Claim 58/2495: In September 2021, organizers of Macy's Thanksgiving Day Parade in New York City announced they would allow in-person spectators.\n",
      "Decomposed Claim 58/2495: 1) \"Macy's Thanksgiving Day Parade in New York City will allow in-person spectators in September 2021.\" 2) \"The 2021 Macy's Thanksgiving Day Parade in New York is scheduled to be held on November 22, 2021.\" 3) \"In September 2021, organizers of Macy's Thanksgiving Day Parade in New Jersey announced they would allow in-person spectators in September 2022.\"\n"
     ]
    },
    {
     "name": "stderr",
     "output_type": "stream",
     "text": [
      "Generating Decompositions:   2%|▏         | 59/2495 [02:49<2:09:52,  3.20s/it]"
     ]
    },
    {
     "name": "stdout",
     "output_type": "stream",
     "text": [
      "Initial Claim 59/2495: The Obama administration \"went to court to keep one of these five in jail at Guantanamo just three years ago because he was such a huge risk.\"\n",
      "Decomposed Claim 59/2495: 1) \"The Obama administration went to court to keep one of these five in jail at Guantanamo just three years ago because he was such a huge risk.\"\n"
     ]
    },
    {
     "name": "stderr",
     "output_type": "stream",
     "text": [
      "Generating Decompositions:   2%|▏         | 60/2495 [02:52<2:07:28,  3.14s/it]"
     ]
    },
    {
     "name": "stdout",
     "output_type": "stream",
     "text": [
      "Initial Claim 60/2495: Say\"71 percent of doctors say Hillary's health concerns are 'serious' and 'could be disqualifying.' \"\n",
      "Decomposed Claim 60/2495: 1) \"71 percent of doctors say Hillary's health concerns are'serious' and 'could be disqualifying.'\" 2) \"71% of doctors say Hillary's health concerns are serious.\"\n"
     ]
    },
    {
     "name": "stderr",
     "output_type": "stream",
     "text": [
      "Generating Decompositions:   2%|▏         | 61/2495 [02:56<2:18:52,  3.42s/it]"
     ]
    },
    {
     "name": "stdout",
     "output_type": "stream",
     "text": [
      "Initial Claim 61/2495: Supported in-state tuition in Arkansas for illegal immigrants \"if you'd sat in our schools from the time you're 5 or 6 years old and you had become an A-plus student,\" among other things.\n",
      "Decomposed Claim 61/2495: 1) \"If you'd sat in our schools from the time you're 5 or 6 years old and you had become an A-plus student, you would receive in-state tuition in Arkansas.\" 2) \"The bill also allows for free tuition for illegal immigrants who are 5 or 6 years old.\"\n"
     ]
    },
    {
     "name": "stderr",
     "output_type": "stream",
     "text": [
      "Generating Decompositions:   2%|▏         | 62/2495 [02:59<2:14:42,  3.32s/it]"
     ]
    },
    {
     "name": "stdout",
     "output_type": "stream",
     "text": [
      "Initial Claim 62/2495: Olena Zelenska has been pictured on a private jet returning from a 40,000 euro Christmas shopping spree in Paris.\n",
      "Decomposed Claim 62/2495: 1) \"Olena Zelenska\" has been pictured on a private jet returning from a Christmas shopping spree in Paris. 2) \"The 40,000 euro Christmas shopping spree was in Paris.\"\n"
     ]
    },
    {
     "name": "stderr",
     "output_type": "stream",
     "text": [
      "Generating Decompositions:   3%|▎         | 63/2495 [03:02<2:08:58,  3.18s/it]"
     ]
    },
    {
     "name": "stdout",
     "output_type": "stream",
     "text": [
      "Initial Claim 63/2495: After a Columbus police officer fatally shot Ma'Khia Bryant, 16, in April 2021, LeBron James tweeted the officer was wrong to use deadly force.\n",
      "Decomposed Claim 63/2495: 1) \"After a Columbus police officer fatally shot Ma'Khia Bryant, 16, in April 2021, LeBron James tweeted the officer was wrong to use deadly force.\"\n"
     ]
    },
    {
     "name": "stderr",
     "output_type": "stream",
     "text": [
      "Generating Decompositions:   3%|▎         | 64/2495 [03:04<1:56:23,  2.87s/it]"
     ]
    },
    {
     "name": "stdout",
     "output_type": "stream",
     "text": [
      "Initial Claim 64/2495: Argentina's Central Bank is considering putting Lionel Messi's image on the 1000 pesos bank note.\n",
      "Decomposed Claim 64/2495: 1) \"Argentina's Central Bank is considering putting Lionel Messi's image on the 1000 pesos bank note.\"\n"
     ]
    },
    {
     "name": "stderr",
     "output_type": "stream",
     "text": [
      "Generating Decompositions:   3%|▎         | 65/2495 [03:08<2:09:46,  3.20s/it]"
     ]
    },
    {
     "name": "stdout",
     "output_type": "stream",
     "text": [
      "Initial Claim 65/2495: Says of El Paso that some years, \"in a city of almost 700,000, we had five murders the entire year. Our average over the last 10 years is 18 (murders per year). We exceeded that average just on one day\" after a gunman opened fire at a Walmart in the city.\n",
      "Decomposed Claim 65/2495: 1) \"In a city of almost 700,000, we had five murders the entire year. Our average over the last 10 years is 18 (murders per year). We exceeded that average just on one day\" after a gunman opened fire at a Walmart in the city. 2)\n"
     ]
    },
    {
     "name": "stderr",
     "output_type": "stream",
     "text": [
      "Generating Decompositions:   3%|▎         | 66/2495 [03:12<2:15:30,  3.35s/it]"
     ]
    },
    {
     "name": "stdout",
     "output_type": "stream",
     "text": [
      "Initial Claim 66/2495: A photograph shows a person holding a protest sign claiming that the number of characters in \"Barack Hussein Obama\" add up to the \"19\" in COVID-19.\n",
      "Decomposed Claim 66/2495: 1) \"Barack Hussein Obama\" is a character in COVID-19. 2) \"19\" is the number of characters in \"Barack Hussein Obama.\" 3) \"A protest sign shows a person holding a protest sign.\"\n"
     ]
    },
    {
     "name": "stderr",
     "output_type": "stream",
     "text": [
      "Generating Decompositions:   3%|▎         | 67/2495 [03:13<1:54:27,  2.83s/it]"
     ]
    },
    {
     "name": "stdout",
     "output_type": "stream",
     "text": [
      "Initial Claim 67/2495: In Libya, \"America spent $2 billion total and didn’t lose a single life.\"\n",
      "Decomposed Claim 67/2495: 1) \"America spent $2 billion total in Libya.\" 2) \"America didn’t lose a single life.\"\n"
     ]
    },
    {
     "name": "stderr",
     "output_type": "stream",
     "text": [
      "Generating Decompositions:   3%|▎         | 68/2495 [03:15<1:37:28,  2.41s/it]"
     ]
    },
    {
     "name": "stdout",
     "output_type": "stream",
     "text": [
      "Initial Claim 68/2495: \"As many as 22,000 Americans die each year because they don’t have health insurance.\"\n",
      "Decomposed Claim 68/2495: 1) \"As many as 22,000 Americans die each year because they don’t have health insurance.\"\n"
     ]
    },
    {
     "name": "stderr",
     "output_type": "stream",
     "text": [
      "Generating Decompositions:   3%|▎         | 69/2495 [03:17<1:40:54,  2.50s/it]"
     ]
    },
    {
     "name": "stdout",
     "output_type": "stream",
     "text": [
      "Initial Claim 69/2495: “Tim Tebow says he is wearing #85 to honor his former friend/teammate and fellow TE Aaron Hernandez, who passed away in 2017.”\n",
      "Decomposed Claim 69/2495: 1) \"Tim Tebow says he is wearing #85 to honor Aaron Hernandez, who passed away in 2017.\" 2) \"Aaron Hernandez was a friend and fellow TE of Tim Tebow.\"\n"
     ]
    },
    {
     "name": "stderr",
     "output_type": "stream",
     "text": [
      "Generating Decompositions:   3%|▎         | 70/2495 [03:21<1:58:29,  2.93s/it]"
     ]
    },
    {
     "name": "stdout",
     "output_type": "stream",
     "text": [
      "Initial Claim 70/2495: \"Congress and President Obama have accumulated more debt since he took office than the total amount of debt accumulated during the first 200 years of the United States existence.\"\n",
      "Decomposed Claim 70/2495: 1) \"Congress and President Obama have accumulated more debt since he took office than the total amount of debt accumulated during the first 200 years of the United States existence.\" 2) \"The total amount of debt accumulated during the first $200 years of the United States existence is $1.2 trillion.\"\n"
     ]
    },
    {
     "name": "stderr",
     "output_type": "stream",
     "text": [
      "Generating Decompositions:   3%|▎         | 71/2495 [03:24<1:56:49,  2.89s/it]"
     ]
    },
    {
     "name": "stdout",
     "output_type": "stream",
     "text": [
      "Initial Claim 71/2495: Says \"TriMet now spends $1.63 in benefits for every $1.00 spent on wages.\"\n",
      "Decomposed Claim 71/2495: 1) \"TriMet now spends $1.63 in benefits for every $1.00 spent on wages.\" 2) \"The number of employees is increasing.\" 3) \"There are more people working for TriMet.\"\n"
     ]
    },
    {
     "name": "stderr",
     "output_type": "stream",
     "text": [
      "Generating Decompositions:   3%|▎         | 72/2495 [03:27<1:53:37,  2.81s/it]"
     ]
    },
    {
     "name": "stdout",
     "output_type": "stream",
     "text": [
      "Initial Claim 72/2495: The Gambia supports Myanmar’ ruling National League for Democracy (NLD) party for the upcoming election in November 2020\n",
      "Decomposed Claim 72/2495: 1) \"The Gambia supports the ruling National League for Democracy (NLD) party for the upcoming election in November 2020.\" 2) \"The upcoming election in November 2020 is Myanmar's presidential election.\"\n"
     ]
    },
    {
     "name": "stderr",
     "output_type": "stream",
     "text": [
      "Generating Decompositions:   3%|▎         | 73/2495 [03:29<1:51:43,  2.77s/it]"
     ]
    },
    {
     "name": "stdout",
     "output_type": "stream",
     "text": [
      "Initial Claim 73/2495: U.S. House Speaker Nancy Pelosi announced she would resign if President Donald Trump were re-elected in 2020.\n",
      "Decomposed Claim 73/2495: 1) \"Nancy Pelosi announced she would resign if President Donald Trump were re-elected in 2020.\" 2) \"President Donald Trump was re-elected in 2020.\"\n"
     ]
    },
    {
     "name": "stderr",
     "output_type": "stream",
     "text": [
      "Generating Decompositions:   3%|▎         | 74/2495 [03:31<1:37:55,  2.43s/it]"
     ]
    },
    {
     "name": "stdout",
     "output_type": "stream",
     "text": [
      "Initial Claim 74/2495: The Department of Homeland Security determined that 300 criminals were traveling in the Central American migrant caravan.\n",
      "Decomposed Claim 74/2495: 1) \"The Department of Homeland Security determined that 300 criminals were traveling in the Central American migrant caravan.\"\n"
     ]
    },
    {
     "name": "stderr",
     "output_type": "stream",
     "text": [
      "Generating Decompositions:   3%|▎         | 75/2495 [03:34<1:43:13,  2.56s/it]"
     ]
    },
    {
     "name": "stdout",
     "output_type": "stream",
     "text": [
      "Initial Claim 75/2495: “CDC quietly deletes 6,000 COVID vaccine deaths from its CDC website total in one day.”\n",
      "Decomposed Claim 75/2495: 1) \"CDC quietly deleted 6,000 COVID vaccine deaths from its CDC website total in one day.\" 2) \"The CDC quietly deleted 6,000 COVID vaccine death records from its CDC website total in one day.\n"
     ]
    },
    {
     "name": "stderr",
     "output_type": "stream",
     "text": [
      "Generating Decompositions:   3%|▎         | 76/2495 [03:36<1:38:03,  2.43s/it]"
     ]
    },
    {
     "name": "stdout",
     "output_type": "stream",
     "text": [
      "Initial Claim 76/2495: Photo shows buses parked in protest of fuel price in November 2021\n",
      "Decomposed Claim 76/2495: 1) \"Photo shows buses parked in protest of fuel price in November 2021.\" 2) \"The photo was taken in November 2021.\"\n"
     ]
    },
    {
     "name": "stderr",
     "output_type": "stream",
     "text": [
      "Generating Decompositions:   3%|▎         | 77/2495 [03:38<1:27:30,  2.17s/it]"
     ]
    },
    {
     "name": "stdout",
     "output_type": "stream",
     "text": [
      "Initial Claim 77/2495: Man Using Snapchat Gender-Bending Filter Made Over 100K Selling Snapchat Premium\n",
      "Decomposed Claim 77/2495: 1) \"Man Using Snapchat Gender-Bending Filter Made Over 100K Selling Snapchat Premium\"\n"
     ]
    },
    {
     "name": "stderr",
     "output_type": "stream",
     "text": [
      "Generating Decompositions:   3%|▎         | 78/2495 [03:41<1:45:29,  2.62s/it]"
     ]
    },
    {
     "name": "stdout",
     "output_type": "stream",
     "text": [
      "Initial Claim 78/2495: Speedway is offering $500 fuel cards for $1.95 to help customers with rising fuel costs.\n",
      "Decomposed Claim 78/2495: 1) \"Speedway is offering $500 fuel cards for $1.95 to help customers with rising fuel costs.\" 2) \"Rising fuel costs are a major concern for Speedway fans.\" 3) \"Slowing fuel costs is a big issue for Speedway fans.\"\n"
     ]
    },
    {
     "name": "stderr",
     "output_type": "stream",
     "text": [
      "Generating Decompositions:   3%|▎         | 79/2495 [03:44<1:44:03,  2.58s/it]"
     ]
    },
    {
     "name": "stdout",
     "output_type": "stream",
     "text": [
      "Initial Claim 79/2495: Queen Elizabeth II and the Pope rejoined the Anglican and Catholic churches by signing the 2010 \"Holyrood Agreement\".\n",
      "Decomposed Claim 79/2495: 1) \"The Holyrood Agreement\" was signed by Queen Elizabeth II and the Pope in 2010. 2) \"The Holyrood Agreement\" is a religious agreement.\n"
     ]
    },
    {
     "name": "stderr",
     "output_type": "stream",
     "text": [
      "Generating Decompositions:   3%|▎         | 80/2495 [03:47<1:47:12,  2.66s/it]"
     ]
    },
    {
     "name": "stdout",
     "output_type": "stream",
     "text": [
      "Initial Claim 80/2495: \"For every Kentuckian that has enrolled in Obamacare, 40 have been dropped from their coverage.\"\n",
      "Decomposed Claim 80/2495: 1) \"For every Kentuckian that has enrolled in Obamacare, 40 have been dropped from their coverage.\" 2) \"Obamacare\" is the name of a health care program.\n"
     ]
    },
    {
     "name": "stderr",
     "output_type": "stream",
     "text": [
      "Generating Decompositions:   3%|▎         | 81/2495 [03:50<2:02:21,  3.04s/it]"
     ]
    },
    {
     "name": "stdout",
     "output_type": "stream",
     "text": [
      "Initial Claim 81/2495: The seven nations identified in Donald Trump's travel ban were \"identified by the Obama administration as the seven most dangerous countries in the world in regard to harboring terrorists.\"\n",
      "Decomposed Claim 81/2495: 1) \"The seven nations identified in Donald Trump's travel ban were identified by the Obama administration as the seven most dangerous countries in the world in regard to harboring terrorists.\" 2) \"The seven nations identified in Donald Trump' s travel ban were identified by the Obama administration.\n"
     ]
    },
    {
     "name": "stderr",
     "output_type": "stream",
     "text": [
      "Generating Decompositions:   3%|▎         | 82/2495 [03:53<1:58:31,  2.95s/it]"
     ]
    },
    {
     "name": "stdout",
     "output_type": "stream",
     "text": [
      "Initial Claim 82/2495: Pat Robertson sharply criticized recent, high-profile incidents of police violence during an April 15, 2021, broadcast of \"The 700 Club.\"\n",
      "Decomposed Claim 82/2495: 1) \"The 700 Club\" was broadcast on April 15, 2021. 2) \"Pat Robertson sharply criticized recent, high-profile incidents of police violence.\"\n"
     ]
    },
    {
     "name": "stderr",
     "output_type": "stream",
     "text": [
      "Generating Decompositions:   3%|▎         | 83/2495 [03:55<1:48:04,  2.69s/it]"
     ]
    },
    {
     "name": "stdout",
     "output_type": "stream",
     "text": [
      "Initial Claim 83/2495: Says Donald Trump'sfoundation \"took money other people gave to his charity and then bought a six-foot-tall painting of himself.\"\n",
      "Decomposed Claim 83/2495: 1) \"The Donald Trump Foundation took money other people gave to his charity and then bought a six-foot-tall painting of himself.\"\n"
     ]
    },
    {
     "name": "stderr",
     "output_type": "stream",
     "text": [
      "Generating Decompositions:   3%|▎         | 84/2495 [03:57<1:39:32,  2.48s/it]"
     ]
    },
    {
     "name": "stdout",
     "output_type": "stream",
     "text": [
      "Initial Claim 84/2495: Debunking claims about disappeared school children in 1964 in British Columbia, Canada\n",
      "Decomposed Claim 84/2495: 1) \"The disappeared school children in British Columbia, Canada were in 1964.\" 2) \"Debunking claims about disappeared school children in 1964.\"\n"
     ]
    },
    {
     "name": "stderr",
     "output_type": "stream",
     "text": [
      "Generating Decompositions:   3%|▎         | 85/2495 [04:00<1:45:17,  2.62s/it]"
     ]
    },
    {
     "name": "stdout",
     "output_type": "stream",
     "text": [
      "Initial Claim 85/2495: Picture showing Ratneshwar temple in Varanasi leaning by 9 degree\n",
      "Decomposed Claim 85/2495: 1) \"The picture shows Ratneshwar temple in Varanasi leaning by 9 degree.\" 2) \"Ratneshwar temple in Varanasis a famous place for Hindus.\n"
     ]
    },
    {
     "name": "stderr",
     "output_type": "stream",
     "text": [
      "Generating Decompositions:   3%|▎         | 86/2495 [04:03<1:46:16,  2.65s/it]"
     ]
    },
    {
     "name": "stdout",
     "output_type": "stream",
     "text": [
      "Initial Claim 86/2495: A seven-year-old boy called Lachlan Leary died from the Covid-19 vaccine in Sydney.\n",
      "Decomposed Claim 86/2495: 1) \"Lachlan Leary died from the Covid-19 vaccine in Sydney.\" 2) \"The vaccine is effective against COVID-19.\" 3) \"The vaccine is not effective against COVID-20.\"\n"
     ]
    },
    {
     "name": "stderr",
     "output_type": "stream",
     "text": [
      "Generating Decompositions:   3%|▎         | 87/2495 [04:05<1:41:31,  2.53s/it]"
     ]
    },
    {
     "name": "stdout",
     "output_type": "stream",
     "text": [
      "Initial Claim 87/2495: Says Bill Nelson voted to cut $700 billion out of Medicare to pay for Obamacare.\n",
      "Decomposed Claim 87/2495: 1) \"Bill Nelson voted to cut $700 billion out of Medicare to pay for Obamacare.\" 2) \"The bill would have been approved by the Senate.\"\n"
     ]
    },
    {
     "name": "stderr",
     "output_type": "stream",
     "text": [
      "Generating Decompositions:   4%|▎         | 88/2495 [04:07<1:37:26,  2.43s/it]"
     ]
    },
    {
     "name": "stdout",
     "output_type": "stream",
     "text": [
      "Initial Claim 88/2495: All funeral services in the U.K. have been canceled on Sept. 19, the day Queen Elizabeth II is set to be buried.\n",
      "Decomposed Claim 88/2495: 1) \"All funeral services in the U.K. have been canceled on Sept. 19.\" 2) \"The day Queen Elizabeth II is set to be buried.\"\n"
     ]
    },
    {
     "name": "stderr",
     "output_type": "stream",
     "text": [
      "Generating Decompositions:   4%|▎         | 89/2495 [04:12<2:04:26,  3.10s/it]"
     ]
    },
    {
     "name": "stdout",
     "output_type": "stream",
     "text": [
      "Initial Claim 89/2495: Says Oregon state employees received a \"catch-up\" pay raise in 1981 -- just two years after they agreed not to take a raise in exchange for a retirement benefit.\n",
      "Decomposed Claim 89/2495: 1) \"Oregon state employees received a \"catch-up\" pay raise in 1981 -- just two years after they agreed not to take a raise in exchange for a retirement benefit.\" 2) \"The Oregon state employees received a \"catch- up\" pay raise in 1981 -- just two years before they agreed not to take a raise in return for a retirement benefit.\"\n"
     ]
    },
    {
     "name": "stderr",
     "output_type": "stream",
     "text": [
      "Generating Decompositions:   4%|▎         | 90/2495 [04:14<1:51:33,  2.78s/it]"
     ]
    },
    {
     "name": "stdout",
     "output_type": "stream",
     "text": [
      "Initial Claim 90/2495: £37 billion has been spent on NHS Test and Trace, and it's not clear how this money was used.\n",
      "Decomposed Claim 90/2495: 1) \"NHS Test and Trace has been spent on £37 billion.\" 2) \"It's not clear how this money was used.\"\n"
     ]
    },
    {
     "name": "stderr",
     "output_type": "stream",
     "text": [
      "Generating Decompositions:   4%|▎         | 91/2495 [04:18<2:05:58,  3.14s/it]"
     ]
    },
    {
     "name": "stdout",
     "output_type": "stream",
     "text": [
      "Initial Claim 91/2495: On Thursday, March 24, eight Pakistani soldiers were killed by a militant outfit named Tehrik-e-Taliban Pakistan in North Waziristan.\n",
      "Decomposed Claim 91/2495: 1) \"On Thursday, March 24, eight Pakistani soldiers were killed by a militant outfit named Tehrik-e-Taliban Pakistan in North Waziristan.\" 2) \"The eight Pakistani soldiers were killed by a terrorist group named Tehrik-e-Talibán Pakistan.\"\n"
     ]
    },
    {
     "name": "stderr",
     "output_type": "stream",
     "text": [
      "Generating Decompositions:   4%|▎         | 92/2495 [04:20<1:54:30,  2.86s/it]"
     ]
    },
    {
     "name": "stdout",
     "output_type": "stream",
     "text": [
      "Initial Claim 92/2495: No evidence authorities found US$27 billion belonging to dead Nigerian\n",
      "Decomposed Claim 92/2495: 1) \"No evidence authorities found US$27 billion belonging to dead Nigerians.\" 2) \"The money was reportedly stolen from the country's banks.\"\n"
     ]
    },
    {
     "name": "stderr",
     "output_type": "stream",
     "text": [
      "Generating Decompositions:   4%|▎         | 93/2495 [04:22<1:40:01,  2.50s/it]"
     ]
    },
    {
     "name": "stdout",
     "output_type": "stream",
     "text": [
      "Initial Claim 93/2495: The American Health Care Act \"will reduce premiums by 10 percent. We would actually bring costs down.”\n",
      "Decomposed Claim 93/2495: 1) \"The American Health Care Act will reduce premiums by 10 percent. We would actually bring costs down.\"\n"
     ]
    },
    {
     "name": "stderr",
     "output_type": "stream",
     "text": [
      "Generating Decompositions:   4%|▍         | 94/2495 [04:25<1:46:17,  2.66s/it]"
     ]
    },
    {
     "name": "stdout",
     "output_type": "stream",
     "text": [
      "Initial Claim 94/2495: Says Donald Trump “let federal contractors double offshoring jobs in his first 18 months in office.”\n",
      "Decomposed Claim 94/2495: 1) \"Trump let federal contractors double offshoring jobs in his first 18 months in office.\" 2) \"Trump let federal contractors double offshoring jobs in his first 18 months in office.\"\n"
     ]
    },
    {
     "name": "stderr",
     "output_type": "stream",
     "text": [
      "Generating Decompositions:   4%|▍         | 95/2495 [04:28<1:51:29,  2.79s/it]"
     ]
    },
    {
     "name": "stdout",
     "output_type": "stream",
     "text": [
      "Initial Claim 95/2495: Says Sherrod Brown \"votes 97 percent with Chuck Schumer, almost 95 plus percent with Elizabeth Warren.\"\n",
      "Decomposed Claim 95/2495: 1) \"Sherrod Brown votes 97 percent with Chuck Schumer, almost 95 plus percent with Elizabeth Warren.\" 2) \"Sherrod Brown votes 97 percent with Chuck Schuman, almost 95 plus percent with Elizabeth Warren.\"\n"
     ]
    },
    {
     "name": "stderr",
     "output_type": "stream",
     "text": [
      "Generating Decompositions:   4%|▍         | 96/2495 [04:30<1:39:46,  2.50s/it]"
     ]
    },
    {
     "name": "stdout",
     "output_type": "stream",
     "text": [
      "Initial Claim 96/2495: Amul will shut down its chilling centres from March 21\n",
      "Decomposed Claim 96/2495: 1) \"Amul will shut down its chilling centres from March 21.\" 2) \"Amul will close its chilling centres.\"\n"
     ]
    },
    {
     "name": "stderr",
     "output_type": "stream",
     "text": [
      "Generating Decompositions:   4%|▍         | 97/2495 [04:33<1:42:15,  2.56s/it]"
     ]
    },
    {
     "name": "stdout",
     "output_type": "stream",
     "text": [
      "Initial Claim 97/2495: \"In 2005, Dan Branch tried to expand third-trimester abortions in Texas.\"\n",
      "Decomposed Claim 97/2495: 1) \"Dan Branch tried to expand third-trimester abortions in Texas.\" 2) \"Dan Branch tried to expand third-Trimester abortions in Texas.\"\n"
     ]
    },
    {
     "name": "stderr",
     "output_type": "stream",
     "text": [
      "Generating Decompositions:   4%|▍         | 98/2495 [04:36<1:47:21,  2.69s/it]"
     ]
    },
    {
     "name": "stdout",
     "output_type": "stream",
     "text": [
      "Initial Claim 98/2495: \"The president has added close to 68,000 troops in the last year, since he came into office, not just the 30,000 you hear, but the others that were added before that.\"\n",
      "Decomposed Claim 98/2495: 1) \"The president has added close to 68,000 troops in the last year, since he came into office.\" 2) \"Not just the 30,000 you hear, but the others that were added before that.\"\n"
     ]
    },
    {
     "name": "stderr",
     "output_type": "stream",
     "text": [
      "Generating Decompositions:   4%|▍         | 99/2495 [04:38<1:43:18,  2.59s/it]"
     ]
    },
    {
     "name": "stdout",
     "output_type": "stream",
     "text": [
      "Initial Claim 99/2495: Video shows 142 Chinese PLA soldiers died along LAC in last 6 months\n",
      "Decomposed Claim 99/2495: 1) \"Video shows 142 Chinese PLA soldiers died along LAC in last 6 months.\" 2) \"The number of soldiers killed in the last 6 months is 141.\"\n"
     ]
    },
    {
     "name": "stderr",
     "output_type": "stream",
     "text": [
      "Generating Decompositions:   4%|▍         | 100/2495 [04:42<2:01:04,  3.03s/it]"
     ]
    },
    {
     "name": "stdout",
     "output_type": "stream",
     "text": [
      "Initial Claim 100/2495: \"Tom Ganley supports a 23 percent national sales tax that would raise taxes on the middle class while giving a huge tax break to millionaires like himself.\"\n",
      "Decomposed Claim 100/2495: 1) \"Tom Ganley supports a 23 percent national sales tax that would raise taxes on the middle class while giving a huge tax break to millionaires like himself.\" 2) \"A 23 percent national sales tax would raise taxes on the middle class while giving billionaires like himself a huge tax break.\"\n"
     ]
    },
    {
     "name": "stderr",
     "output_type": "stream",
     "text": [
      "Generating Decompositions:   4%|▍         | 101/2495 [04:45<2:03:12,  3.09s/it]"
     ]
    },
    {
     "name": "stdout",
     "output_type": "stream",
     "text": [
      "Initial Claim 101/2495: “We are looking at the USMCA, NAFTA 2.0 trade deal. That would be very important and would add a half a point of GDP and 180,000 new jobs per year if we get that through.”\n",
      "Decomposed Claim 101/2495: 1) \"We are looking at the USMCA, NAFTA 2.0 trade deal. That would be very important and would add a half a point of GDP and 180,000 new jobs per year if we get that through.\"\n"
     ]
    },
    {
     "name": "stderr",
     "output_type": "stream",
     "text": [
      "Generating Decompositions:   4%|▍         | 102/2495 [04:48<2:02:10,  3.06s/it]"
     ]
    },
    {
     "name": "stdout",
     "output_type": "stream",
     "text": [
      "Initial Claim 102/2495: Measles Vaccine Won’t Work For People Born Before 1989\n",
      "Decomposed Claim 102/2495: 1) \"The Measles Vaccine Won’t Work For People Born Before 1989\" 2) \"The Measles Vaccine Was Not Effective For People Born Before 1989\"\n"
     ]
    },
    {
     "name": "stderr",
     "output_type": "stream",
     "text": [
      "Generating Decompositions:   4%|▍         | 103/2495 [04:51<1:58:18,  2.97s/it]"
     ]
    },
    {
     "name": "stdout",
     "output_type": "stream",
     "text": [
      "Initial Claim 103/2495: Malaysia Airlines Flight 370 was made to disappear so one party could gain control of a multiply-owned patent.\n",
      "Decomposed Claim 103/2495: 1) \"Malaysian Airlines Flight 370 was made to disappear so one party could gain control of a multiply-owned patent.\" 2) \"Another party is the owner of the patent.\"\n"
     ]
    },
    {
     "name": "stderr",
     "output_type": "stream",
     "text": [
      "Generating Decompositions:   4%|▍         | 104/2495 [04:53<1:46:17,  2.67s/it]"
     ]
    },
    {
     "name": "stdout",
     "output_type": "stream",
     "text": [
      "Initial Claim 104/2495: 12 barrels containing human remains were found buried on the property of Bill and Hillary Clinton in June 2017.\n",
      "Decomposed Claim 104/2495: 1) \"12 barrels containing human remains were found buried on the property of Bill and Hillary Clinton in June 2017.\"\n"
     ]
    },
    {
     "name": "stderr",
     "output_type": "stream",
     "text": [
      "Generating Decompositions:   4%|▍         | 105/2495 [04:57<2:00:09,  3.02s/it]"
     ]
    },
    {
     "name": "stdout",
     "output_type": "stream",
     "text": [
      "Initial Claim 105/2495: \"In 1994, 39% of South Africans had access to electricity, today, 86% of South Africans have access to electricity.\"\n",
      "Decomposed Claim 105/2495: 1) \"In 1994, 39% of South Africans had access to electricity.\" 2) \"Today, 86% of South Africans have access to electricity.\" 3) \"The percentage of South Africans who have access to electricity has increased over the past 20 years.\"\n"
     ]
    },
    {
     "name": "stderr",
     "output_type": "stream",
     "text": [
      "Generating Decompositions:   4%|▍         | 106/2495 [04:59<1:51:15,  2.79s/it]"
     ]
    },
    {
     "name": "stdout",
     "output_type": "stream",
     "text": [
      "Initial Claim 106/2495: ‘HAP’ is conducting an online survey to gift 6,000 rupees on its 50th Anniversary\n",
      "Decomposed Claim 106/2495: 1) \"HAP\" is conducting an online survey to gift 6,000 rupees on its 50th Anniversary. 2) \"The reward will be given in cash.\"\n"
     ]
    },
    {
     "name": "stderr",
     "output_type": "stream",
     "text": [
      "Generating Decompositions:   4%|▍         | 107/2495 [05:01<1:43:11,  2.59s/it]"
     ]
    },
    {
     "name": "stdout",
     "output_type": "stream",
     "text": [
      "Initial Claim 107/2495: Nasal swab tests to detect COVD-19 can cause severe damage to the blood-brain barrier.\n",
      "Decomposed Claim 107/2495: 1) \"Nasal swab tests to detect COVD-19 can cause severe damage to the blood-brain barrier.\"\n"
     ]
    },
    {
     "name": "stderr",
     "output_type": "stream",
     "text": [
      "Generating Decompositions:   4%|▍         | 108/2495 [05:04<1:47:31,  2.70s/it]"
     ]
    },
    {
     "name": "stdout",
     "output_type": "stream",
     "text": [
      "Initial Claim 108/2495: In 2006, Planned Parenthood performed more prevention services and cancer screenings than abortions, but in 2013, there were more abortions.\n",
      "Decomposed Claim 108/2495: 1) \"Planned Parenthood performed more prevention services and cancer screenings in 2006 than abortions in 2013\" 2) \"In 2006, Planned Parenthood performed more prevention services than abortions in 2013\"\n"
     ]
    },
    {
     "name": "stderr",
     "output_type": "stream",
     "text": [
      "Generating Decompositions:   4%|▍         | 109/2495 [05:06<1:38:43,  2.48s/it]"
     ]
    },
    {
     "name": "stdout",
     "output_type": "stream",
     "text": [
      "Initial Claim 109/2495: The UPA government first initiated the new parliament building project in 2012 with an estimated cost of ₹3,000 crores.\n",
      "Decomposed Claim 109/2495: 1) \"The UPA government first initiated the new parliament building project in 2012 with an estimated cost of 3,000 crores.\"\n"
     ]
    },
    {
     "name": "stderr",
     "output_type": "stream",
     "text": [
      "Generating Decompositions:   4%|▍         | 110/2495 [05:09<1:45:42,  2.66s/it]"
     ]
    },
    {
     "name": "stdout",
     "output_type": "stream",
     "text": [
      "Initial Claim 110/2495: Photo shows damage caused by combination of solar farm and rainfall in 2022\n",
      "Decomposed Claim 110/2495: 1) \"Photo shows damage caused by combination of solar farm and rainfall in 2022.\" 2) \"The photo was taken in 2022.\" 3) \"The photo shows damage caused by combination of solar farm and rainfall in 2022.\"\n"
     ]
    },
    {
     "name": "stderr",
     "output_type": "stream",
     "text": [
      "Generating Decompositions:   4%|▍         | 111/2495 [05:12<1:44:09,  2.62s/it]"
     ]
    },
    {
     "name": "stdout",
     "output_type": "stream",
     "text": [
      "Initial Claim 111/2495: 13-year-old girl raped and burnt alive in Rajasthan\n",
      "Decomposed Claim 111/2495: 1) \"A 13-year-old girl was raped and burnt alive in Rajasthan.\" 2) \"The girl was raped and burned alive.\"\n"
     ]
    },
    {
     "name": "stderr",
     "output_type": "stream",
     "text": [
      "Generating Decompositions:   4%|▍         | 112/2495 [05:14<1:38:51,  2.49s/it]"
     ]
    },
    {
     "name": "stdout",
     "output_type": "stream",
     "text": [
      "Initial Claim 112/2495: \"According to independent analysis, unfair trade deals have resulted in the loss of over 64,000 jobs in Wisconsin ... But Ron Johnson favors those deals.\"\n",
      "Decomposed Claim 112/2495: 1) \"Unfair trade deals have resulted in the loss of over 64,000 jobs in Wisconsin.\" 2) \"But Ron Johnson favors those deals.\"\n"
     ]
    },
    {
     "name": "stderr",
     "output_type": "stream",
     "text": [
      "Generating Decompositions:   5%|▍         | 113/2495 [05:17<1:52:04,  2.82s/it]"
     ]
    },
    {
     "name": "stdout",
     "output_type": "stream",
     "text": [
      "Initial Claim 113/2495: In May 2021, U.S. President Joe Biden's administration announced it would waive some sanctions on the corporate entity and CEO overseeing the construction of Russia’s Nord Stream 2 pipeline into Germany.\n",
      "Decomposed Claim 113/2495: 1) \"The Nord Stream 2 pipeline is being built in Germany. 2) \"In May 2021, the U.S. President Joe Biden's administration announced it would waive some sanctions on the corporate entity and CEO overseeing the construction of the Nord Stream 2 pipeline.\n"
     ]
    },
    {
     "name": "stderr",
     "output_type": "stream",
     "text": [
      "Generating Decompositions:   5%|▍         | 114/2495 [05:19<1:32:24,  2.33s/it]"
     ]
    },
    {
     "name": "stdout",
     "output_type": "stream",
     "text": [
      "Initial Claim 114/2495: \"We have five million young people who are not working.\"\n",
      "Decomposed Claim 114/2495: 1) \"We have five million young people who are not working.\"\n"
     ]
    },
    {
     "name": "stderr",
     "output_type": "stream",
     "text": [
      "Generating Decompositions:   5%|▍         | 115/2495 [05:22<1:41:19,  2.55s/it]"
     ]
    },
    {
     "name": "stdout",
     "output_type": "stream",
     "text": [
      "Initial Claim 115/2495: The major television networks MSNBC, NBC, CNN, CBS, and ABC provided little or no coverage of the July 2018 repatriation of the remains of 55 U.S. soldiers killed in the Korean War.\n",
      "Decomposed Claim 115/2495: 1) \"The major television networks MSNBC, NBC, CNN, CBS, and ABC provided little or no coverage of the July 2018 repatriation of the remains of 55 U.S. soldiers killed in the Korean War.\"\n"
     ]
    }
   ],
   "source": [
    "from transformers import Seq2SeqTrainer, Seq2SeqTrainingArguments, DataCollatorForSeq2Seq\n",
    "from torch.cuda.amp import autocast\n",
    "\n",
    "train_tokenized = tokenizer(train_df['prompt'].tolist(), padding=True, max_length=1024, truncation=False, return_tensors=\"pt\")\n",
    "val_tokenized = tokenizer(val_df['prompt'].tolist(), padding=True, max_length=1024, truncation=False, return_tensors=\"pt\")\n",
    "\n",
    "# Decompose claims after tokenization\n",
    "def decompose_claims(input_ids, attention_mask):\n",
    "    results = []\n",
    "    with torch.no_grad():\n",
    "        for i in tqdm(range(input_ids.size(0)), desc=\"Generating Decompositions\"):\n",
    "            outputs = model.generate(input_ids=input_ids[i:i+1].to(device), attention_mask=attention_mask[i:i+1].to(device), \n",
    "                                    max_length=512,\n",
    "                                    early_stopping=True,\n",
    "                                    no_repeat_ngram_size=10,\n",
    "                                    repetition_penalty=2.5,\n",
    "                                    num_return_sequences=1\n",
    "                                    )\n",
    "            decomposed_claim = tokenizer.decode(outputs[0], skip_special_tokens=True)\n",
    "            # Print initial claim and decomposition\n",
    "            print(f\"Initial Claim {i+1}/{input_ids.size(0)}: {train_df['claim'][i]}\")\n",
    "            print(f\"Decomposed Claim {i+1}/{input_ids.size(0)}: {decomposed_claim}\")\n",
    "            results.append(decomposed_claim)\n",
    "    return results\n",
    "\n",
    "train_outputs = decompose_claims(train_tokenized.input_ids, train_tokenized.attention_mask)\n",
    "val_outputs = decompose_claims(val_tokenized.input_ids, val_tokenized.attention_mask)\n",
    "\n",
    "# Convert output back to plaintext\n",
    "train_decompositions = [tokenizer.decode(output, skip_special_tokens=False) for output in train_outputs]\n",
    "val_decompositions = [tokenizer.decode(output, skip_special_tokens=False) for output in val_outputs]\n",
    "\n",
    "# Save results to CSV\n",
    "train_df['decomposition'] = train_decompositions\n",
    "val_df['decomposition'] = val_decompositions\n",
    "train_df = train_df.drop(columns='prompt')\n",
    "val_df = val_df.drop(columns='prompt')\n",
    "train_df.to_csv(\"train_decompositions.csv\", index=False)\n",
    "val_df.to_csv(\"val_decompositions.csv\", index=False)\n",
    "\n",
    "# Print sample output\n",
    "print(train_df.head())\n",
    "print(val_df.head())"
   ]
  }
 ],
 "metadata": {
  "kernelspec": {
   "display_name": "base",
   "language": "python",
   "name": "python3"
  },
  "language_info": {
   "codemirror_mode": {
    "name": "ipython",
    "version": 3
   },
   "file_extension": ".py",
   "mimetype": "text/x-python",
   "name": "python",
   "nbconvert_exporter": "python",
   "pygments_lexer": "ipython3",
   "version": "3.11.5"
  }
 },
 "nbformat": 4,
 "nbformat_minor": 2
}
